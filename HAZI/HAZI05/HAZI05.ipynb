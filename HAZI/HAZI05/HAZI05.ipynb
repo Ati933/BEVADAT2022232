{
 "cells": [
  {
   "cell_type": "code",
   "execution_count": 2,
   "metadata": {},
   "outputs": [],
   "source": [
    "import pandas as pd\n",
    "from typing import Tuple\n",
    "from scipy.stats import mode\n",
    "from sklearn.metrics import confusion_matrix\n",
    "import seaborn as sns\n",
    "path = \"diabetes.csv\""
   ]
  },
  {
   "cell_type": "code",
   "execution_count": 23,
   "metadata": {},
   "outputs": [],
   "source": [
    "def load_csv(path : str) -> Tuple[pd.core.frame.DataFrame, pd.core.frame.DataFrame]:\n",
    "    dataset = pd.read_csv(path)\n",
    "    \n",
    "    dataset = dataset.sample(frac=1, random_state=42)\n",
    "    \n",
    "    x = dataset.iloc[:, :-1]\n",
    "    y = dataset.iloc[:, -1]\n",
    "    \n",
    "    return x, y"
   ]
  },
  {
   "cell_type": "code",
   "execution_count": 24,
   "metadata": {},
   "outputs": [
    {
     "data": {
      "text/plain": [
       "(     Pregnancies  Glucose  BloodPressure  SkinThickness  Insulin   BMI  \\\n",
       " 668            6       98             58             33      190  34.0   \n",
       " 324            2      112             75             32        0  35.7   \n",
       " 624            2      108             64              0        0  30.8   \n",
       " 690            8      107             80              0        0  24.6   \n",
       " 473            7      136             90              0        0  29.9   \n",
       " ..           ...      ...            ...            ...      ...   ...   \n",
       " 71             5      139             64             35      140  28.6   \n",
       " 106            1       96            122              0        0  22.4   \n",
       " 270           10      101             86             37        0  45.6   \n",
       " 435            0      141              0              0        0  42.4   \n",
       " 102            0      125             96              0        0  22.5   \n",
       " \n",
       "      DiabetesPedigreeFunction  Age  \n",
       " 668                     0.430   43  \n",
       " 324                     0.148   21  \n",
       " 624                     0.158   21  \n",
       " 690                     0.856   34  \n",
       " 473                     0.210   50  \n",
       " ..                        ...  ...  \n",
       " 71                      0.411   26  \n",
       " 106                     0.207   27  \n",
       " 270                     1.136   38  \n",
       " 435                     0.205   29  \n",
       " 102                     0.262   21  \n",
       " \n",
       " [768 rows x 8 columns],\n",
       " 668    0\n",
       " 324    0\n",
       " 624    0\n",
       " 690    0\n",
       " 473    0\n",
       "       ..\n",
       " 71     0\n",
       " 106    0\n",
       " 270    1\n",
       " 435    1\n",
       " 102    0\n",
       " Name: Outcome, Length: 768, dtype: int64)"
      ]
     },
     "execution_count": 24,
     "metadata": {},
     "output_type": "execute_result"
    }
   ],
   "source": [
    "x, y = load_csv(path)\n",
    "x, y"
   ]
  },
  {
   "cell_type": "code",
   "execution_count": 26,
   "metadata": {},
   "outputs": [
    {
     "data": {
      "text/plain": [
       "(Pregnancies                   3.845052\n",
       " Glucose                     120.894531\n",
       " BloodPressure                69.105469\n",
       " SkinThickness                20.536458\n",
       " Insulin                      79.799479\n",
       " BMI                          31.992578\n",
       " DiabetesPedigreeFunction      0.471876\n",
       " Age                          33.240885\n",
       " dtype: float64,\n",
       " Pregnancies                    11.354056\n",
       " Glucose                      1022.248314\n",
       " BloodPressure                 374.647271\n",
       " SkinThickness                 254.473245\n",
       " Insulin                     13281.180078\n",
       " BMI                            62.159984\n",
       " DiabetesPedigreeFunction        0.109779\n",
       " Age                           138.303046\n",
       " dtype: float64)"
      ]
     },
     "execution_count": 26,
     "metadata": {},
     "output_type": "execute_result"
    }
   ],
   "source": [
    "x.mean(axis = 0, skipna=False), x.var(axis = 0, skipna=False)"
   ]
  },
  {
   "cell_type": "code",
   "execution_count": 27,
   "metadata": {},
   "outputs": [
    {
     "data": {
      "text/plain": [
       "(Pregnancies                   3.845052\n",
       " Glucose                     120.894531\n",
       " BloodPressure                69.105469\n",
       " SkinThickness                20.536458\n",
       " Insulin                      79.799479\n",
       " BMI                          31.992578\n",
       " DiabetesPedigreeFunction      0.471876\n",
       " Age                          33.240885\n",
       " dtype: float64,\n",
       " Pregnancies                    11.354056\n",
       " Glucose                      1022.248314\n",
       " BloodPressure                 374.647271\n",
       " SkinThickness                 254.473245\n",
       " Insulin                     13281.180078\n",
       " BMI                            62.159984\n",
       " DiabetesPedigreeFunction        0.109779\n",
       " Age                           138.303046\n",
       " dtype: float64)"
      ]
     },
     "execution_count": 27,
     "metadata": {},
     "output_type": "execute_result"
    }
   ],
   "source": [
    "x.mean(axis = 0), x.var(axis = 0)"
   ]
  },
  {
   "cell_type": "code",
   "execution_count": 30,
   "metadata": {},
   "outputs": [],
   "source": [
    "def train_test_split(features, labels, test_split_ratio: float):\n",
    "    #test_size = int(len(features) * test_split_ratio)\n",
    "    #train_size = len(features) - test_size\n",
    "    #assert len(features) == test_size + train_size, \"Size missmatch!!!\"\n",
    "\n",
    "    #x_train, y_train = features[:train_size, :], labels[:train_size]\n",
    "    #x_test, y_test = features[train_size:, :], labels[train_size:]\n",
    "    #return(x_train, y_train, x_test, y_test)\n",
    "\n",
    "    test_size = int(len(features) * test_split_ratio)\n",
    "    train_size = len(features) - test_size\n",
    "\n",
    "    assert len(features) == test_size + train_size, \"Size missmatch!!!\"\n",
    "    \n",
    "    x_train, x_test = features.iloc[:-train_size], features.iloc[-train_size:]\n",
    "    y_train, y_test = labels.iloc[:-train_size], labels.iloc[-train_size:]\n",
    "    \n",
    "    return x_train, y_train, x_test, y_test"
   ]
  },
  {
   "cell_type": "code",
   "execution_count": 31,
   "metadata": {},
   "outputs": [
    {
     "data": {
      "text/plain": [
       "(     Pregnancies  Glucose  BloodPressure  SkinThickness  Insulin   BMI  \\\n",
       " 668            6       98             58             33      190  34.0   \n",
       " 324            2      112             75             32        0  35.7   \n",
       " 624            2      108             64              0        0  30.8   \n",
       " 690            8      107             80              0        0  24.6   \n",
       " 473            7      136             90              0        0  29.9   \n",
       " ..           ...      ...            ...            ...      ...   ...   \n",
       " 725            4      112             78             40        0  39.4   \n",
       " 355            9      165             88              0        0  30.4   \n",
       " 534            1       77             56             30       56  33.3   \n",
       " 344            8       95             72              0        0  36.8   \n",
       " 296            2      146             70             38      360  28.0   \n",
       " \n",
       "      DiabetesPedigreeFunction  Age  \n",
       " 668                     0.430   43  \n",
       " 324                     0.148   21  \n",
       " 624                     0.158   21  \n",
       " 690                     0.856   34  \n",
       " 473                     0.210   50  \n",
       " ..                        ...  ...  \n",
       " 725                     0.236   38  \n",
       " 355                     0.302   49  \n",
       " 534                     1.251   24  \n",
       " 344                     0.485   57  \n",
       " 296                     0.337   29  \n",
       " \n",
       " [153 rows x 8 columns],\n",
       " 668    0\n",
       " 324    0\n",
       " 624    0\n",
       " 690    0\n",
       " 473    0\n",
       "       ..\n",
       " 725    0\n",
       " 355    1\n",
       " 534    0\n",
       " 344    0\n",
       " 296    1\n",
       " Name: Outcome, Length: 153, dtype: int64,\n",
       "      Pregnancies  Glucose  BloodPressure  SkinThickness  Insulin   BMI  \\\n",
       " 462            8       74             70             40       49  35.3   \n",
       " 60             2       84              0              0        0   0.0   \n",
       " 618            9      112             82             24        0  28.2   \n",
       " 346            1      139             46             19       83  28.7   \n",
       " 294            0      161             50              0        0  21.9   \n",
       " ..           ...      ...            ...            ...      ...   ...   \n",
       " 71             5      139             64             35      140  28.6   \n",
       " 106            1       96            122              0        0  22.4   \n",
       " 270           10      101             86             37        0  45.6   \n",
       " 435            0      141              0              0        0  42.4   \n",
       " 102            0      125             96              0        0  22.5   \n",
       " \n",
       "      DiabetesPedigreeFunction  Age  \n",
       " 462                     0.705   39  \n",
       " 60                      0.304   21  \n",
       " 618                     1.282   50  \n",
       " 346                     0.654   22  \n",
       " 294                     0.254   65  \n",
       " ..                        ...  ...  \n",
       " 71                      0.411   26  \n",
       " 106                     0.207   27  \n",
       " 270                     1.136   38  \n",
       " 435                     0.205   29  \n",
       " 102                     0.262   21  \n",
       " \n",
       " [615 rows x 8 columns],\n",
       " 462    0\n",
       " 60     0\n",
       " 618    1\n",
       " 346    0\n",
       " 294    0\n",
       "       ..\n",
       " 71     0\n",
       " 106    0\n",
       " 270    1\n",
       " 435    1\n",
       " 102    0\n",
       " Name: Outcome, Length: 615, dtype: int64)"
      ]
     },
     "execution_count": 31,
     "metadata": {},
     "output_type": "execute_result"
    }
   ],
   "source": [
    "x_train, y_train, x_test, y_test = train_test_split(x, y, 0.2)\n",
    "x_train, y_train, x_test, y_test"
   ]
  },
  {
   "cell_type": "code",
   "execution_count": null,
   "metadata": {},
   "outputs": [],
   "source": []
  }
 ],
 "metadata": {
  "kernelspec": {
   "display_name": "Python 3",
   "language": "python",
   "name": "python3"
  },
  "language_info": {
   "codemirror_mode": {
    "name": "ipython",
    "version": 3
   },
   "file_extension": ".py",
   "mimetype": "text/x-python",
   "name": "python",
   "nbconvert_exporter": "python",
   "pygments_lexer": "ipython3",
   "version": "3.10.10"
  },
  "orig_nbformat": 4,
  "vscode": {
   "interpreter": {
    "hash": "aee8b7b246df8f9039afb4144a1f6fd8d2ca17a180786b69acc140d282b71a49"
   }
  }
 },
 "nbformat": 4,
 "nbformat_minor": 2
}
